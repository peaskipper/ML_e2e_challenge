{
 "cells": [
  {
   "cell_type": "markdown",
   "id": "3d2e08a1",
   "metadata": {},
   "source": [
    "imports"
   ]
  },
  {
   "cell_type": "code",
   "execution_count": 1,
   "id": "db44714d",
   "metadata": {},
   "outputs": [],
   "source": [
    "\n",
    "### open lib\n",
    "import pandas as pd\n",
    "import os\n",
    "\n",
    "# Spark\n",
    "from pyspark.sql import SparkSession\n",
    "from pyspark.sql.types import StructType, TimestampType\n",
    "from pyspark.sql.functions import col, desc"
   ]
  },
  {
   "cell_type": "markdown",
   "id": "9104aa99",
   "metadata": {},
   "source": [
    "Setup local SparkSession"
   ]
  },
  {
   "cell_type": "code",
   "execution_count": 2,
   "id": "bd678240",
   "metadata": {},
   "outputs": [],
   "source": [
    "# Ensures proper Python worker binding\n",
    "os.environ[\"PYSPARK_PYTHON\"] = \"python\"\n",
    "os.environ[\"PYSPARK_DRIVER_PYTHON\"] = \"python\"\n",
    "os.environ[\"SPARK_LOCAL_IP\"] = \"127.0.0.1\"\n",
    "\n",
    "# Point to the JDBC driver\n",
    "jdbc_jar_path = \"C:\\\\Program Files\\\\Java\\\\sqljdbc_12.10\\\\enu\\\\jars\\\\mssql-jdbc.jar\"\n",
    "\n",
    "# Start Spark session with JDBC driver\n",
    "spark = SparkSession.builder \\\n",
    "    .appName(\"SQLServerAccess\") \\\n",
    "    .config(\"spark.driver.bindAddress\", \"127.0.0.1\") \\\n",
    "    .config(\"spark.driver.host\", \"localhost\") \\\n",
    "    .config(\"spark.network.timeout\", \"100s\") \\\n",
    "    .config(\"spark.python.worker.reuse\", \"false\") \\\n",
    "    .config(\"spark.jars\", jdbc_jar_path) \\\n",
    "    .getOrCreate()\n"
   ]
  },
  {
   "cell_type": "markdown",
   "id": "da74ae9e",
   "metadata": {},
   "source": [
    "Read from staging"
   ]
  },
  {
   "cell_type": "code",
   "execution_count": 3,
   "id": "128ef681",
   "metadata": {},
   "outputs": [],
   "source": [
    "# SQL Server connection config\n",
    "jdbc_url = (\n",
    "    \"jdbc:sqlserver://localhost:1433;\"\n",
    "    \"databaseName=sqldb_staging;\"\n",
    "    \"integratedSecurity=true;\"\n",
    "    \"encrypt=true;\"\n",
    "    \"trustServerCertificate=true\"\n",
    ")\n",
    "\n",
    "connection_props = {\n",
    "    \"driver\": \"com.microsoft.sqlserver.jdbc.SQLServerDriver\"\n",
    "}"
   ]
  },
  {
   "cell_type": "code",
   "execution_count": 4,
   "id": "d5f2f454",
   "metadata": {},
   "outputs": [],
   "source": [
    "category = spark.read.jdbc(url=jdbc_url, table=\"dbo.category\", properties=connection_props)\n",
    "records = spark.read.jdbc(url=jdbc_url, table=\"dbo.records\", properties=connection_props)"
   ]
  },
  {
   "cell_type": "markdown",
   "id": "2b107102",
   "metadata": {},
   "source": [
    "Begin"
   ]
  },
  {
   "cell_type": "code",
   "execution_count": null,
   "id": "ba656795",
   "metadata": {},
   "outputs": [],
   "source": []
  },
  {
   "cell_type": "code",
   "execution_count": null,
   "id": "a2a0de4d",
   "metadata": {},
   "outputs": [
    {
     "data": {
      "text/plain": [
       "<bound method SparkSession.stop of <pyspark.sql.session.SparkSession object at 0x000001FD29FAE1D0>>"
      ]
     },
     "execution_count": 6,
     "metadata": {},
     "output_type": "execute_result"
    }
   ],
   "source": [
    "spark.stop"
   ]
  }
 ],
 "metadata": {
  "kernelspec": {
   "display_name": "Python 3",
   "language": "python",
   "name": "python3"
  },
  "language_info": {
   "codemirror_mode": {
    "name": "ipython",
    "version": 3
   },
   "file_extension": ".py",
   "mimetype": "text/x-python",
   "name": "python",
   "nbconvert_exporter": "python",
   "pygments_lexer": "ipython3",
   "version": "3.10.6"
  }
 },
 "nbformat": 4,
 "nbformat_minor": 5
}
