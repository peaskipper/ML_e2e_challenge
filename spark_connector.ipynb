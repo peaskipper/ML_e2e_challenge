{
 "cells": [
  {
   "cell_type": "markdown",
   "id": "3d2e08a1",
   "metadata": {},
   "source": [
    "imports"
   ]
  },
  {
   "cell_type": "code",
   "execution_count": 1,
   "id": "db44714d",
   "metadata": {},
   "outputs": [],
   "source": [
    "\n",
    "### open lib\n",
    "import pandas as pd\n",
    "import os\n",
    "\n",
    "# Spark\n",
    "from pyspark.sql import SparkSession\n",
    "from pyspark.sql.types import StructType, TimestampType\n",
    "from pyspark.sql.functions import col, desc"
   ]
  },
  {
   "cell_type": "markdown",
   "id": "9104aa99",
   "metadata": {},
   "source": [
    "Setup local SparkSession"
   ]
  },
  {
   "cell_type": "code",
   "execution_count": 3,
   "id": "9bf07a0b",
   "metadata": {},
   "outputs": [],
   "source": [
    "# Ensures proper Python worker binding\n",
    "os.environ[\"PYSPARK_PYTHON\"] = \"python\"\n",
    "os.environ[\"PYSPARK_DRIVER_PYTHON\"] = \"python\"\n",
    "\n",
    "# Optional: Increase timeout if needed\n",
    "os.environ[\"SPARK_LOCAL_IP\"] = \"127.0.0.1\"\n"
   ]
  },
  {
   "cell_type": "code",
   "execution_count": null,
   "id": "eeaef2b3",
   "metadata": {},
   "outputs": [],
   "source": [
    "# Point to the JDBC driver\n",
    "jdbc_jar_path = \"C:\\\\Program Files\\\\Java\\\\sqljdbc_12.10\\\\enu\\\\jars\\\\mssql-jdbc.jar\"\n",
    "\n",
    "# Start Spark session with JDBC driver\n",
    "spark = SparkSession.builder \\\n",
    "    .appName(\"SQLServerAccess\") \\\n",
    "    .config(\"spark.driver.bindAddress\", \"127.0.0.1\") \\\n",
    "    .config(\"spark.driver.host\", \"localhost\") \\\n",
    "    .config(\"spark.network.timeout\", \"100s\") \\\n",
    "    .config(\"spark.python.worker.reuse\", \"false\") \\\n",
    "    .config(\"spark.jars\", jdbc_jar_path) \\\n",
    "    .getOrCreate()\n"
   ]
  },
  {
   "cell_type": "code",
   "execution_count": null,
   "id": "7cceb384",
   "metadata": {},
   "outputs": [],
   "source": [
    "\n",
    "# Test sparksession - create a Dummy DataFrame\n",
    "data = [(\"Alice\", 25), (\"Bob\", 30), (\"Charlie\", 28)]\n",
    "columns = [\"name\", \"age\"]\n",
    "df = spark.createDataFrame(data, columns)\n",
    "df.show()"
   ]
  },
  {
   "cell_type": "code",
   "execution_count": null,
   "id": "2ba13ee5",
   "metadata": {},
   "outputs": [
    {
     "name": "stdout",
     "output_type": "stream",
     "text": [
      "+----+----+\n",
      "|col1|col2|\n",
      "+----+----+\n",
      "+----+----+\n",
      "\n"
     ]
    }
   ],
   "source": [
    "# SQL Server connection config\n",
    "jdbc_url = (\n",
    "    \"jdbc:sqlserver://localhost:1433;\"\n",
    "    \"databaseName=sqldb_staging;\"\n",
    "    \"integratedSecurity=true;\"\n",
    "    \"encrypt=true;\"\n",
    "    \"trustServerCertificate=true\"\n",
    ")\n",
    "\n",
    "connection_props = {\n",
    "    \"driver\": \"com.microsoft.sqlserver.jdbc.SQLServerDriver\"\n",
    "}\n",
    "\n",
    "# Read a table\n",
    "df = spark.read.jdbc(url=jdbc_url, table=\"dbo.test_tbl\", properties=connection_props)\n",
    "df.show()"
   ]
  },
  {
   "cell_type": "code",
   "execution_count": null,
   "id": "a228de3f",
   "metadata": {},
   "outputs": [],
   "source": [
    "\n",
    "spark.stop"
   ]
  }
 ],
 "metadata": {
  "kernelspec": {
   "display_name": "Python 3",
   "language": "python",
   "name": "python3"
  },
  "language_info": {
   "codemirror_mode": {
    "name": "ipython",
    "version": 3
   },
   "file_extension": ".py",
   "mimetype": "text/x-python",
   "name": "python",
   "nbconvert_exporter": "python",
   "pygments_lexer": "ipython3",
   "version": "3.10.6"
  }
 },
 "nbformat": 4,
 "nbformat_minor": 5
}
