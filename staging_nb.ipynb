{
 "cells": [
  {
   "cell_type": "markdown",
   "id": "3d2e08a1",
   "metadata": {},
   "source": [
    "imports"
   ]
  },
  {
   "cell_type": "code",
   "execution_count": 1,
   "id": "db44714d",
   "metadata": {},
   "outputs": [],
   "source": [
    "\n",
    "### open lib\n",
    "import pandas as pd\n",
    "import os\n",
    "\n",
    "# Spark\n",
    "from pyspark.sql import SparkSession\n",
    "from pyspark.sql.types import StructType, TimestampType\n",
    "from pyspark.sql.functions import col, desc"
   ]
  },
  {
   "cell_type": "code",
   "execution_count": 2,
   "id": "d9de2604",
   "metadata": {},
   "outputs": [
    {
     "name": "stdout",
     "output_type": "stream",
     "text": [
      "Loaded categories\n",
      "Loaded records\n",
      "categories\n",
      "\t filename :  categories\n",
      "\t columns :  ['category_key', 'type', 'payment_category', 'subcategory', 'item', 'nature', 'color', 'category']\n",
      "\t data_type :  ['string', 'string', 'string', 'string', 'string', 'string', 'string', 'string']\n",
      "\t pk :  category_key\n",
      "\t check_pk :  PASS\n",
      "\t check_null_columns :  subcategory, item, nature\n",
      "records\n",
      "\t filename :  records\n",
      "\t columns :  ['record_key', 'category_key', 'account', 'category', 'currency', 'amount', 'ref_currency_amount', 'type', 'payment_type', 'payment_type_local', 'note', 'date', 'gps_latitude', 'gps_longitude', 'gps_accuracy_in_meters', 'warranty_in_month', 'transfer', 'payee', 'labels', 'envelope_id', 'custom_category']\n",
      "\t data_type :  ['string', 'string', 'string', 'string', 'string', 'float', 'float', 'string', 'string', 'string', 'string', 'string', 'float', 'float', 'float', 'int', 'bool', 'string', 'float', 'int', 'bool']\n",
      "\t pk :  record_key\n",
      "\t check_pk :  PASS\n",
      "\t check_null_columns :  note, gps_latitude, gps_longitude, gps_accuracy_in_meters, payee, labels\n",
      "fk_checks\n",
      "\t missing_fk_record_count :  40\n",
      "\n",
      "\n",
      "####Tables ingested####\n",
      "\n",
      "\trecords : 1853 | ['record_key', 'category_key', 'account', 'category', 'currency', 'amount', 'ref_currency_amount', 'type', 'payment_type', 'payment_type_local', 'note', 'date', 'gps_latitude', 'gps_longitude', 'gps_accuracy_in_meters', 'warranty_in_month', 'transfer', 'payee', 'labels', 'envelope_id', 'custom_category']\n",
      "\tcategories: 98 | ['category_key', 'type', 'payment_category', 'subcategory', 'item', 'nature', 'color', 'category']\n"
     ]
    }
   ],
   "source": [
    "### self defined lib\n",
    "from ingestion_lib.analyse import parse_dataset, infer_column_type, add_key_column, dupe_check\n",
    "from ingestion_lib.main import records, categories, tbl_parsed_dict"
   ]
  },
  {
   "cell_type": "markdown",
   "id": "9104aa99",
   "metadata": {},
   "source": [
    "Setup local SparkSession"
   ]
  },
  {
   "cell_type": "code",
   "execution_count": null,
   "id": "bd678240",
   "metadata": {},
   "outputs": [],
   "source": [
    "# Ensures proper Python worker binding\n",
    "os.environ[\"PYSPARK_PYTHON\"] = \"python\"\n",
    "os.environ[\"PYSPARK_DRIVER_PYTHON\"] = \"python\"\n",
    "os.environ[\"SPARK_LOCAL_IP\"] = \"127.0.0.1\"\n",
    "\n",
    "# Point to the JDBC driver\n",
    "jdbc_jar_path = \"C:\\\\Program Files\\\\Java\\\\sqljdbc_12.10\\\\enu\\\\jars\\\\mssql-jdbc.jar\"\n",
    "\n",
    "# Start Spark session with JDBC driver\n",
    "spark = SparkSession.builder \\\n",
    "    .appName(\"SQLServerAccess\") \\\n",
    "    .config(\"spark.driver.bindAddress\", \"127.0.0.1\") \\\n",
    "    .config(\"spark.driver.host\", \"localhost\") \\\n",
    "    .config(\"spark.network.timeout\", \"100s\") \\\n",
    "    .config(\"spark.python.worker.reuse\", \"false\") \\\n",
    "    .config(\"spark.jars\", jdbc_jar_path) \\\n",
    "    .getOrCreate()\n"
   ]
  },
  {
   "cell_type": "markdown",
   "id": "da74ae9e",
   "metadata": {},
   "source": [
    "\n",
    "Ingest as Spark df"
   ]
  },
  {
   "cell_type": "code",
   "execution_count": 4,
   "id": "3d56f7b6",
   "metadata": {},
   "outputs": [
    {
     "name": "stdout",
     "output_type": "stream",
     "text": [
      "+--------------------+--------+----------------+--------------------+----+------+-------+--------------------+\n",
      "|        category_key|    type|payment_category|         subcategory|item|nature|  color|            category|\n",
      "+--------------------+--------+----------------+--------------------+----+------+-------+--------------------+\n",
      "|Expenses:Food & D...|Expenses|   Food & Drinks|                 NaN| NaN|  Need|#FF5722|       Food & Drinks|\n",
      "|Expenses:Restaura...|Expenses|   Food & Drinks|    Restaurants, bar| NaN|  Need|#FF5722|    Restaurants, bar|\n",
      "|  Expenses:Groceries|Expenses|   Food & Drinks|           Groceries| NaN|  Need|#FF5722|           Groceries|\n",
      "|  Expenses:Fast-food|Expenses|   Food & Drinks|           Fast-food| NaN|  Need|#FF5722|           Fast-food|\n",
      "|   Expenses:Shopping|Expenses|        Shopping|                 NaN| NaN|  Want|#4FC3F7|            Shopping|\n",
      "|Expenses:Clothes ...|Expenses|        Shopping|     Clothes & shoes| NaN|  Want|#4FC3F7|     Clothes & shoes|\n",
      "|Expenses:Drug-sto...|Expenses|        Shopping| Drug-store, chemist| NaN|  Want|#4FC3F7| Drug-store, chemist|\n",
      "|Expenses:Electron...|Expenses|        Shopping|Electronics, acce...| NaN|  Want|#4FC3F7|Electronics, acce...|\n",
      "|  Expenses:Free time|Expenses|        Shopping|           Free time| NaN|  Want|#4FC3F7|           Free time|\n",
      "| Expenses:Gifts, joy|Expenses|        Shopping|          Gifts, joy| NaN|  Want|#4FC3F7|          Gifts, joy|\n",
      "|Expenses:Health a...|Expenses|        Shopping|   Health and beauty| NaN|  Want|#4FC3F7|   Health and beauty|\n",
      "|Expenses:Home, ga...|Expenses|        Shopping|        Home, garden| NaN|  Want|#4FC3F7|        Home, garden|\n",
      "|Expenses:Jewels, ...|Expenses|        Shopping| Jewels, accessories| NaN|  Want|#4FC3F7| Jewels, accessories|\n",
      "|       Expenses:Kids|Expenses|        Shopping|                Kids| NaN|  Want|#4FC3F7|                Kids|\n",
      "|Expenses:Pets, an...|Expenses|        Shopping|       Pets, animals| NaN|  Want|#4FC3F7|       Pets, animals|\n",
      "|Expenses:Statione...|Expenses|        Shopping|   Stationery, tools| NaN|  Want|#4FC3F7|   Stationery, tools|\n",
      "|    Expenses:Housing|Expenses|         Housing|                 NaN| NaN|  Must|#FFB300|             Housing|\n",
      "|Expenses:Energy, ...|Expenses|         Housing|   Energy, utilities| NaN|  Must|#FFB300|   Energy, utilities|\n",
      "|Expenses:Maintena...|Expenses|         Housing|Maintenance, repairs| NaN|  Must|#FFB300|Maintenance, repairs|\n",
      "|   Expenses:Mortgage|Expenses|         Housing|            Mortgage| NaN|  Must|#FFB300|            Mortgage|\n",
      "+--------------------+--------+----------------+--------------------+----+------+-------+--------------------+\n",
      "only showing top 20 rows\n",
      "\n"
     ]
    }
   ],
   "source": [
    "categories_df = spark.createDataFrame(categories)\n",
    "categories_df.show()"
   ]
  },
  {
   "cell_type": "code",
   "execution_count": 5,
   "id": "af27867c",
   "metadata": {},
   "outputs": [
    {
     "name": "stdout",
     "output_type": "stream",
     "text": [
      "+--------------------+--------------------+-------+--------------------+--------+--------+-------------------+--------+--------------+------------------+--------------------+-------------------+------------+-------------+----------------------+-----------------+--------+------+------+-----------+---------------+\n",
      "|          record_key|        category_key|account|            category|currency|  amount|ref_currency_amount|    type|  payment_type|payment_type_local|                note|               date|gps_latitude|gps_longitude|gps_accuracy_in_meters|warranty_in_month|transfer| payee|labels|envelope_id|custom_category|\n",
      "+--------------------+--------------------+-------+--------------------+--------+--------+-------------------+--------+--------------+------------------+--------------------+-------------------+------------+-------------+----------------------+-----------------+--------+------+------+-----------+---------------+\n",
      "|2025-03-31 23:31:...|  Expenses:Fast-food|Savings|           Fast-food|     INR|  -660.0|             -660.0|Expenses|          CASH|              Cash|Dinner plans with...|2025-03-31 23:31:51|         NaN|          NaN|                   NaN|                0|   false|   NaN|   NaN|       1001|          false|\n",
      "|2025-03-31 23:31:...|Expenses:Restaura...|Savings|    Restaurants, bar|     INR|  -660.0|             -660.0|Expenses|          CASH|              Cash|          simplified|2025-03-31 23:31:51|         NaN|          NaN|                   NaN|                0|   false|   NaN|   NaN|       1002|          false|\n",
      "|2025-03-31 16:30:...|  Expenses:Fast-food|Savings|           Fast-food|     INR|  -280.0|             -280.0|Expenses|          CASH|              Cash| Swiggy\\r\\n156 + 131|2025-03-31 16:30:15|         NaN|          NaN|                   NaN|                0|   false|   NaN|   NaN|       1001|          false|\n",
      "|2025-03-30 19:32:...|Expenses:Loan, in...|Savings|     Loan, interests|     INR| -2500.0|            -2500.0|Expenses|          CASH|              Cash|         Me → Thatha|2025-03-30 19:32:16|         NaN|          NaN|                   NaN|                0|   false|Thatha|   NaN|       8002|          false|\n",
      "|2025-03-30 19:30:...|  Expenses:MF midcap| Salary|           MF midcap|     INR| -5000.0|            -5000.0|Expenses|MOBILE_PAYMENT|    Mobile payment|Hdfc nifty 50 mid...|2025-03-30 19:30:26|         NaN|          NaN|                   NaN|                0|   false|   NaN|   NaN|       9002|           true|\n",
      "|2025-03-30 19:30:...|   Expenses:TRANSFER| Salary|            TRANSFER|     INR| -5000.0|            -5000.0|Expenses|MOBILE_PAYMENT|    Mobile payment|                 NaN|2025-03-30 19:30:13|         NaN|          NaN|                   NaN|                0|    true|   NaN|   NaN|      20001|          false|\n",
      "|2025-03-30 19:30:...|     Income:TRANSFER|  Zerdh|            TRANSFER|     INR|  5000.0|             5000.0|  Income|MOBILE_PAYMENT|    Mobile payment|                 NaN|2025-03-30 19:30:13|         NaN|          NaN|                   NaN|                0|    true|   NaN|   NaN|      20001|          false|\n",
      "|2025-03-30 19:29:...|   Expenses:TRANSFER| Salary|            TRANSFER|     INR|-10000.0|           -10000.0|Expenses|MOBILE_PAYMENT|    Mobile payment|                 NaN|2025-03-30 19:29:52|         NaN|          NaN|                   NaN|                0|    true|   NaN|   NaN|      20001|          false|\n",
      "|2025-03-30 19:29:...|     Income:TRANSFER|Savings|            TRANSFER|     INR| 10000.0|            10000.0|  Income|MOBILE_PAYMENT|    Mobile payment|                 NaN|2025-03-30 19:29:52|         NaN|          NaN|                   NaN|                0|    true|   NaN|   NaN|      20001|          false|\n",
      "|2025-03-30 19:12:...|        Expenses:PPF| Salary|                 PPF|     INR| -2500.0|            -2500.0|Expenses|MOBILE_PAYMENT|    Mobile payment|                 NaN|2025-03-30 19:12:50|         NaN|          NaN|                   NaN|                0|   false|   NaN|   NaN|       9003|           true|\n",
      "|2025-03-30 19:12:...|   Expenses:Mortgage| Salary|            Mortgage|     INR|-10000.0|           -10000.0|Expenses|      TRANSFER|     Bank transfer|                 NaN|2025-03-30 19:12:04|         NaN|          NaN|                   NaN|                0|   false|   NaN|   NaN|       3001|          false|\n",
      "|2025-03-30 19:11:...|       Income:Income| Salary|              Income|     INR| 51300.0|            51300.0|  Income|      TRANSFER|     Bank transfer|                 NaN|2025-03-30 19:11:46|         NaN|          NaN|                   NaN|                0|   false|   NaN|   NaN|      10011|          false|\n",
      "|2025-03-29 15:01:...|Expenses:Charges,...|Savings|       Charges, Fees|     INR| -2775.0|            -2775.0|Expenses|MOBILE_PAYMENT|    Mobile payment|                 NaN|2025-03-29 15:01:30|         NaN|          NaN|                   NaN|                0|   false|   NaN|   NaN|       8005|          false|\n",
      "|2025-03-29 15:01:...|Income:Lending, r...|Savings|    Lending, renting|     INR|  2500.0|             2500.0|  Income|          CASH|              Cash|         Thatha → Me|2025-03-29 15:01:25|         NaN|          NaN|                   NaN|                0|   false|Thatha|   NaN|      10005|          false|\n",
      "|2025-03-28 18:03:...|  Expenses:Groceries|Savings|           Groceries|     INR|   -85.0|              -85.0|Expenses|MOBILE_PAYMENT|    Mobile payment|                 NaN|2025-03-28 18:03:10|         NaN|          NaN|                   NaN|                0|   false|   NaN|   NaN|       1000|          false|\n",
      "|2025-03-28 17:49:...|Expenses:Food & D...|Savings|       Food & Drinks|     INR|  -120.0|             -120.0|Expenses|MOBILE_PAYMENT|    Mobile payment|                 NaN|2025-03-28 17:49:46|         NaN|          NaN|                   NaN|                0|   false|   NaN|   NaN|       1003|          false|\n",
      "|2025-03-28 14:57:...|Expenses:Food & D...|Savings|       Food & Drinks|     INR|  -150.0|             -150.0|Expenses|MOBILE_PAYMENT|    Mobile payment|                 NaN|2025-03-28 14:57:41|         NaN|          NaN|                   NaN|                0|   false|   NaN|   NaN|       1003|          false|\n",
      "|2025-03-28 07:01:...|Income:Interests,...|Savings|Interests, dividends|     INR|    85.0|               85.0|  Income|MOBILE_PAYMENT|    Mobile payment|                 NaN|2025-03-28 07:01:25|         NaN|          NaN|                   NaN|                0|   false|   NaN|   NaN|      10001|          false|\n",
      "|2025-03-27 08:02:...|       Expenses:Fuel|Savings|                Fuel|     INR|  -565.0|             -565.0|Expenses|MOBILE_PAYMENT|    Mobile payment|                 NaN|2025-03-27 08:02:45|         NaN|          NaN|                   NaN|                0|   false|   NaN|   NaN|       5000|          false|\n",
      "|2025-03-23 14:30:...|  Expenses:Fast-food|Savings|           Fast-food|     INR|  -205.0|             -205.0|Expenses|          CASH|              Cash|                 NaN|2025-03-23 14:30:51|         NaN|          NaN|                   NaN|                0|   false|   NaN|   NaN|       1001|          false|\n",
      "+--------------------+--------------------+-------+--------------------+--------+--------+-------------------+--------+--------------+------------------+--------------------+-------------------+------------+-------------+----------------------+-----------------+--------+------+------+-----------+---------------+\n",
      "only showing top 20 rows\n",
      "\n"
     ]
    }
   ],
   "source": [
    "records_df = spark.createDataFrame(records)\n",
    "records_df.show()"
   ]
  },
  {
   "cell_type": "code",
   "execution_count": 6,
   "id": "4a76dbf8",
   "metadata": {},
   "outputs": [],
   "source": [
    "records_df = records_df.withColumn('timestamp', col('date').cast(TimestampType()))\n",
    "records_df = records_df.select('record_key', 'category_key', 'account', 'category', 'amount', 'ref_currency_amount', 'type','timestamp','transfer')\n",
    "\n",
    "categories_df = categories_df.select('category_key', 'type', 'payment_category', 'subcategory', 'item', 'nature').distinct()"
   ]
  },
  {
   "cell_type": "markdown",
   "id": "94833295",
   "metadata": {},
   "source": [
    "Validation for categories"
   ]
  },
  {
   "cell_type": "code",
   "execution_count": 43,
   "id": "9bbbb934",
   "metadata": {},
   "outputs": [
    {
     "name": "stdout",
     "output_type": "stream",
     "text": [
      "+--------+\n",
      "|    type|\n",
      "+--------+\n",
      "|Expenses|\n",
      "|  Income|\n",
      "+--------+\n",
      "\n",
      "+------+\n",
      "|nature|\n",
      "+------+\n",
      "|  Want|\n",
      "|  Need|\n",
      "|  Must|\n",
      "|   NaN|\n",
      "+------+\n",
      "\n"
     ]
    }
   ],
   "source": [
    "categories_df.select('type').distinct().show()\n",
    "categories_df.select('nature').distinct().show()"
   ]
  },
  {
   "cell_type": "code",
   "execution_count": 42,
   "id": "9f78846b",
   "metadata": {},
   "outputs": [
    {
     "name": "stdout",
     "output_type": "stream",
     "text": [
      "+--------------------+\n",
      "|    payment_category|\n",
      "+--------------------+\n",
      "|            Shopping|\n",
      "|       Food & Drinks|\n",
      "|             Housing|\n",
      "|      Transportation|\n",
      "|             Vehicle|\n",
      "|Life & Entertainment|\n",
      "|   Communication, PC|\n",
      "|  Financial expenses|\n",
      "|         Investments|\n",
      "|              Income|\n",
      "|            TRANSFER|\n",
      "|              Others|\n",
      "+--------------------+\n",
      "\n"
     ]
    }
   ],
   "source": [
    "categories_df.select('payment_category').distinct().show()"
   ]
  },
  {
   "cell_type": "code",
   "execution_count": 67,
   "id": "d42224cf",
   "metadata": {},
   "outputs": [
    {
     "data": {
      "text/plain": [
       "0"
      ]
     },
     "execution_count": 67,
     "metadata": {},
     "output_type": "execute_result"
    }
   ],
   "source": [
    "categories_df.where('payment_category is null').count()"
   ]
  },
  {
   "cell_type": "markdown",
   "id": "f28a0c54",
   "metadata": {},
   "source": [
    "Validation for records"
   ]
  },
  {
   "cell_type": "code",
   "execution_count": 53,
   "id": "6d022942",
   "metadata": {},
   "outputs": [
    {
     "name": "stdout",
     "output_type": "stream",
     "text": [
      "+--------+\n",
      "|    type|\n",
      "+--------+\n",
      "|  Income|\n",
      "|Expenses|\n",
      "+--------+\n",
      "\n",
      "+--------+\n",
      "|transfer|\n",
      "+--------+\n",
      "|    true|\n",
      "|   false|\n",
      "+--------+\n",
      "\n",
      "+-------+\n",
      "|account|\n",
      "+-------+\n",
      "|Savings|\n",
      "|  Zerdh|\n",
      "|   Card|\n",
      "|   Cash|\n",
      "| Equity|\n",
      "| Salary|\n",
      "+-------+\n",
      "\n"
     ]
    }
   ],
   "source": [
    "records_df.select('type').distinct().show()\n",
    "records_df.select('transfer').distinct().show()\n",
    "records_df.select('account').distinct().show()"
   ]
  },
  {
   "cell_type": "code",
   "execution_count": 59,
   "id": "3b7c1a5a",
   "metadata": {},
   "outputs": [
    {
     "name": "stdout",
     "output_type": "stream",
     "text": [
      "1893\n",
      "294\n"
     ]
    }
   ],
   "source": [
    "print(records_df.count())\n",
    "print(records_df.where('transfer is True').count())"
   ]
  },
  {
   "cell_type": "code",
   "execution_count": 60,
   "id": "26ffebdd",
   "metadata": {},
   "outputs": [
    {
     "data": {
      "text/plain": [
       "65"
      ]
     },
     "execution_count": 60,
     "metadata": {},
     "output_type": "execute_result"
    }
   ],
   "source": [
    "records_df.select('category').distinct().count()"
   ]
  },
  {
   "cell_type": "code",
   "execution_count": 66,
   "id": "6d9d71aa",
   "metadata": {},
   "outputs": [
    {
     "name": "stdout",
     "output_type": "stream",
     "text": [
      "+--------------------+-----+\n",
      "|            category|count|\n",
      "+--------------------+-----+\n",
      "|            TRANSFER|  294|\n",
      "|           Fast-food|  242|\n",
      "|                Fuel|  121|\n",
      "|     Loan, interests|   85|\n",
      "|    Lending, renting|   77|\n",
      "|             Missing|   62|\n",
      "|           Groceries|   59|\n",
      "|    Restaurants, bar|   57|\n",
      "|Books, audio, sub...|   55|\n",
      "|   Health and beauty|   46|\n",
      "|      Charity, gifts|   44|\n",
      "|Telephone, mobile...|   43|\n",
      "|              Income|   42|\n",
      "|       Food & Drinks|   37|\n",
      "|     Clothes & shoes|   36|\n",
      "|             Parking|   33|\n",
      "|           Auto/taxi|   30|\n",
      "|Software, apps, g...|   26|\n",
      "|Holiday, trips, h...|   26|\n",
      "|                  RD|   24|\n",
      "+--------------------+-----+\n",
      "only showing top 20 rows\n",
      "\n"
     ]
    }
   ],
   "source": [
    "records_df.groupBy('category').count().orderBy(desc('count')).show()"
   ]
  },
  {
   "cell_type": "markdown",
   "id": "b7a74d66",
   "metadata": {},
   "source": [
    "Validation for joining"
   ]
  },
  {
   "cell_type": "code",
   "execution_count": 70,
   "id": "87018f57",
   "metadata": {},
   "outputs": [
    {
     "name": "stdout",
     "output_type": "stream",
     "text": [
      "0\n"
     ]
    }
   ],
   "source": [
    "join_df = records_df.join(categories_df, how='left').where('payment_category is null')\n",
    "print(join_df.count())"
   ]
  },
  {
   "cell_type": "code",
   "execution_count": null,
   "id": "e6f80a90",
   "metadata": {},
   "outputs": [
    {
     "name": "stdout",
     "output_type": "stream",
     "text": [
      "+----------------+-----------+\n",
      "|payment_category|sum(amount)|\n",
      "+----------------+-----------+\n",
      "+----------------+-----------+\n",
      "\n"
     ]
    }
   ],
   "source": [
    "join_df.groupBy('payment_category').agg('amount').show()"
   ]
  },
  {
   "cell_type": "markdown",
   "id": "5dc0ca21",
   "metadata": {},
   "source": [
    "Validation for datatypes"
   ]
  },
  {
   "cell_type": "code",
   "execution_count": 7,
   "id": "0f576343",
   "metadata": {},
   "outputs": [
    {
     "name": "stdout",
     "output_type": "stream",
     "text": [
      "\n",
      "categories\n",
      "\n",
      "category_key  :  String\n",
      "type  :  String\n",
      "payment_category  :  String\n",
      "subcategory  :  String\n",
      "item  :  String\n",
      "nature  :  String\n",
      "\n",
      "records\n",
      "\n",
      "record_key  :  String\n",
      "category_key  :  String\n",
      "account  :  String\n",
      "category  :  String\n",
      "amount  :  Double\n",
      "ref_currency_amount  :  Double\n",
      "type  :  String\n",
      "timestamp  :  Timestamp\n",
      "transfer  :  Boolean\n"
     ]
    }
   ],
   "source": [
    "print('\\ncategories\\n')\n",
    "categories_col_dict = {field.name: str(field.dataType).replace('Type()','') for field in categories_df.schema.fields}\n",
    "for col, type in categories_col_dict.items():\n",
    "    print(col, ' : ', type)\n",
    "    \n",
    "print('\\nrecords\\n')\n",
    "records_col_dict = {field.name: str(field.dataType).replace('Type()','') for field in records_df.schema.fields}\n",
    "for col, type in records_col_dict.items():\n",
    "    print(col, ' : ', type)"
   ]
  },
  {
   "cell_type": "markdown",
   "id": "c4b7f495",
   "metadata": {},
   "source": [
    "Write to database"
   ]
  },
  {
   "cell_type": "code",
   "execution_count": null,
   "id": "128ef681",
   "metadata": {},
   "outputs": [
    {
     "name": "stdout",
     "output_type": "stream",
     "text": [
      "+----+----+\n",
      "|col1|col2|\n",
      "+----+----+\n",
      "+----+----+\n",
      "\n"
     ]
    }
   ],
   "source": [
    "# SQL Server connection config\n",
    "jdbc_url = (\n",
    "    \"jdbc:sqlserver://localhost:1433;\"\n",
    "    \"databaseName=sqldb_staging;\"\n",
    "    \"integratedSecurity=true;\"\n",
    "    \"encrypt=true;\"\n",
    "    \"trustServerCertificate=true\"\n",
    ")\n",
    "\n",
    "connection_props = {\n",
    "    \"driver\": \"com.microsoft.sqlserver.jdbc.SQLServerDriver\"\n",
    "}"
   ]
  },
  {
   "cell_type": "code",
   "execution_count": null,
   "id": "226c515e",
   "metadata": {},
   "outputs": [],
   "source": [
    "categories_df.write.jdbc(url=jdbc_url, table='category', mode=\"overwrite\", properties=connection_props)\n",
    "records_df.write.jdbc(url=jdbc_url, table='records', mode=\"overwrite\", properties=connection_props)"
   ]
  },
  {
   "cell_type": "code",
   "execution_count": 11,
   "id": "d5f2f454",
   "metadata": {},
   "outputs": [
    {
     "name": "stdout",
     "output_type": "stream",
     "text": [
      "+--------------------+--------+----------------+--------------------+----+------+\n",
      "|        category_key|    type|payment_category|         subcategory|item|nature|\n",
      "+--------------------+--------+----------------+--------------------+----+------+\n",
      "|  Expenses:Fast-food|Expenses|   Food & Drinks|           Fast-food| NaN|  Need|\n",
      "|   Expenses:Shopping|Expenses|        Shopping|                 NaN| NaN|  Want|\n",
      "|Expenses:Restaura...|Expenses|   Food & Drinks|    Restaurants, bar| NaN|  Need|\n",
      "|Expenses:Clothes ...|Expenses|        Shopping|     Clothes & shoes| NaN|  Want|\n",
      "|Expenses:Food & D...|Expenses|   Food & Drinks|                 NaN| NaN|  Need|\n",
      "|Expenses:Electron...|Expenses|        Shopping|Electronics, acce...| NaN|  Want|\n",
      "|Expenses:Drug-sto...|Expenses|        Shopping| Drug-store, chemist| NaN|  Want|\n",
      "|  Expenses:Groceries|Expenses|   Food & Drinks|           Groceries| NaN|  Need|\n",
      "|Expenses:Pets, an...|Expenses|        Shopping|       Pets, animals| NaN|  Want|\n",
      "|Expenses:Health a...|Expenses|        Shopping|   Health and beauty| NaN|  Want|\n",
      "|       Expenses:Kids|Expenses|        Shopping|                Kids| NaN|  Want|\n",
      "|Expenses:Home, ga...|Expenses|        Shopping|        Home, garden| NaN|  Want|\n",
      "|  Expenses:Free time|Expenses|        Shopping|           Free time| NaN|  Want|\n",
      "| Expenses:Gifts, joy|Expenses|        Shopping|          Gifts, joy| NaN|  Want|\n",
      "|Expenses:Jewels, ...|Expenses|        Shopping| Jewels, accessories| NaN|  Want|\n",
      "|Expenses:Statione...|Expenses|        Shopping|   Stationery, tools| NaN|  Want|\n",
      "|Expenses:Property...|Expenses|         Housing|  Property insurance| NaN|  Must|\n",
      "|Expenses:Maintena...|Expenses|         Housing|Maintenance, repairs| NaN|  Must|\n",
      "|    Expenses:Housing|Expenses|         Housing|                 NaN| NaN|  Must|\n",
      "|       Expenses:Rent|Expenses|         Housing|                Rent| NaN|  Must|\n",
      "+--------------------+--------+----------------+--------------------+----+------+\n",
      "only showing top 20 rows\n",
      "\n"
     ]
    }
   ],
   "source": [
    "# Read a table\n",
    "df = spark.read.jdbc(url=jdbc_url, table=\"dbo.category\", properties=connection_props)\n",
    "df.show()"
   ]
  },
  {
   "cell_type": "code",
   "execution_count": 12,
   "id": "fa678526",
   "metadata": {},
   "outputs": [
    {
     "name": "stdout",
     "output_type": "stream",
     "text": [
      "+--------------------+--------------------+-------+--------------------+--------+-------------------+--------+-------------------+--------+\n",
      "|          record_key|        category_key|account|            category|  amount|ref_currency_amount|    type|          timestamp|transfer|\n",
      "+--------------------+--------------------+-------+--------------------+--------+-------------------+--------+-------------------+--------+\n",
      "|2023-07-08 19:21:...|       Expenses:Fuel|Savings|                Fuel|  -540.0|             -540.0|Expenses|2023-07-08 19:21:52|   false|\n",
      "|2023-07-07 19:30:...|Expenses:Food & D...|Savings|       Food & Drinks|   -40.0|              -40.0|Expenses|2023-07-07 19:30:58|   false|\n",
      "|2023-07-02 10:56:...|       Expenses:Fuel|Savings|                Fuel|  -400.0|             -400.0|Expenses|2023-07-02 10:56:22|   false|\n",
      "|2023-07-02 10:56:...|Expenses:Restaura...|Savings|    Restaurants, bar|   -80.0|              -80.0|Expenses|2023-07-02 10:56:14|   false|\n",
      "|2023-07-02 10:55:...|Income:Interests,...| Salary|Interests, dividends|   175.0|              175.0|  Income|2023-07-02 10:55:10|   false|\n",
      "|2023-07-01 15:17:...|Expenses:Telephon...|Savings|Telephone, mobile...|  -265.0|             -265.0|Expenses|2023-07-01 15:17:03|   false|\n",
      "|2023-06-30 20:35:...|Expenses:Hardware...|Savings|Hardware, electro...| -2600.0|            -2600.0|Expenses|2023-06-30 20:35:43|   false|\n",
      "|2023-06-30 12:22:...|   Expenses:TRANSFER| Salary|            TRANSFER|-13000.0|           -13000.0|Expenses|2023-06-30 12:22:11|    true|\n",
      "|2023-06-30 12:22:...|     Income:TRANSFER|Savings|            TRANSFER| 13000.0|            13000.0|  Income|2023-06-30 12:22:11|    true|\n",
      "|2023-06-30 12:18:...|   Expenses:Mortgage| Salary|            Mortgage|-20000.0|           -20000.0|Expenses|2023-06-30 12:18:21|   false|\n",
      "|2023-06-30 12:08:...|       Income:Income| Salary|              Income| 51300.0|            51300.0|  Income|2023-06-30 12:08:02|   false|\n",
      "|2023-06-30 10:55:...|         Expenses:RD| Salary|                  RD| -5000.0|            -5000.0|Expenses|2023-06-30 10:55:48|   false|\n",
      "|2023-06-28 12:23:...|       Expenses:Fuel|Savings|                Fuel|  -500.0|             -500.0|Expenses|2023-06-28 12:23:09|   false|\n",
      "|2023-06-27 12:25:...|  Expenses:Fast-food|Savings|           Fast-food|  -180.0|             -180.0|Expenses|2023-06-27 12:25:43|   false|\n",
      "|2023-06-24 23:36:...|Expenses:Charity,...|Savings|      Charity, gifts|  -530.0|             -530.0|Expenses|2023-06-24 23:36:46|   false|\n",
      "|2023-06-23 16:26:...|  Expenses:Fast-food|Savings|           Fast-food|  -150.0|             -150.0|Expenses|2023-06-23 16:26:58|   false|\n",
      "|2023-06-23 00:37:...|Expenses:Movies, ...|Savings|Movies, culture, ...|  -345.0|             -345.0|Expenses|2023-06-23 00:37:08|   false|\n",
      "|2023-06-23 00:36:...|  Expenses:Auto/taxi|   Cash|           Auto/taxi|  -150.0|             -150.0|Expenses|2023-06-23 00:36:51|   false|\n",
      "|2023-06-23 00:36:...|    Expenses:Missing|   Cash|             Missing| -1000.0|            -1000.0|Expenses|2023-06-23 00:36:15|   false|\n",
      "|2023-06-21 14:38:...|Expenses:Food & D...|Savings|       Food & Drinks|   -70.0|              -70.0|Expenses|2023-06-21 14:38:56|   false|\n",
      "+--------------------+--------------------+-------+--------------------+--------+-------------------+--------+-------------------+--------+\n",
      "only showing top 20 rows\n",
      "\n"
     ]
    }
   ],
   "source": [
    "# Read a table\n",
    "df = spark.read.jdbc(url=jdbc_url, table=\"dbo.records\", properties=connection_props)\n",
    "df.show()"
   ]
  },
  {
   "cell_type": "code",
   "execution_count": 13,
   "id": "a2a0de4d",
   "metadata": {},
   "outputs": [
    {
     "data": {
      "text/plain": [
       "<bound method SparkSession.stop of <pyspark.sql.session.SparkSession object at 0x0000020130229F90>>"
      ]
     },
     "execution_count": 13,
     "metadata": {},
     "output_type": "execute_result"
    }
   ],
   "source": [
    "spark.stop\n",
    "# spark2.stop"
   ]
  }
 ],
 "metadata": {
  "kernelspec": {
   "display_name": "Python 3",
   "language": "python",
   "name": "python3"
  },
  "language_info": {
   "codemirror_mode": {
    "name": "ipython",
    "version": 3
   },
   "file_extension": ".py",
   "mimetype": "text/x-python",
   "name": "python",
   "nbconvert_exporter": "python",
   "pygments_lexer": "ipython3",
   "version": "3.10.6"
  }
 },
 "nbformat": 4,
 "nbformat_minor": 5
}
