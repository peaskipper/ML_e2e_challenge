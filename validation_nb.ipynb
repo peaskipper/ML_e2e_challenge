{
 "cells": [
  {
   "cell_type": "markdown",
   "id": "3d2e08a1",
   "metadata": {},
   "source": [
    "imports"
   ]
  },
  {
   "cell_type": "code",
   "execution_count": 62,
   "id": "db44714d",
   "metadata": {},
   "outputs": [],
   "source": [
    "\n",
    "### open lib\n",
    "import pandas as pd\n",
    "import os\n",
    "\n",
    "# Spark\n",
    "from pyspark.sql import SparkSession\n",
    "from pyspark.sql.types import StructType, TimestampType\n",
    "from pyspark.sql.functions import col, desc"
   ]
  },
  {
   "cell_type": "code",
   "execution_count": 35,
   "id": "d9de2604",
   "metadata": {},
   "outputs": [],
   "source": [
    "### self defined lib\n",
    "from ingestion_lib.analyse import parse_dataset, infer_column_type, add_key_column, dupe_check\n",
    "from ingestion_lib.main import records, categories, tbl_parsed_dict"
   ]
  },
  {
   "cell_type": "markdown",
   "id": "9104aa99",
   "metadata": {},
   "source": [
    "Setup local SparkSession"
   ]
  },
  {
   "cell_type": "code",
   "execution_count": 3,
   "id": "bd678240",
   "metadata": {},
   "outputs": [],
   "source": [
    "# Ensures proper Python worker binding\n",
    "os.environ[\"PYSPARK_PYTHON\"] = \"python\"\n",
    "os.environ[\"PYSPARK_DRIVER_PYTHON\"] = \"python\"\n",
    "\n",
    "# Optional: Increase timeout if needed\n",
    "os.environ[\"SPARK_LOCAL_IP\"] = \"127.0.0.1\"\n",
    "\n",
    "spark = SparkSession.builder \\\n",
    "    .appName(\"local Session\") \\\n",
    "    .config(\"spark.driver.bindAddress\", \"127.0.0.1\") \\\n",
    "    .config(\"spark.driver.host\", \"localhost\") \\\n",
    "    .config(\"spark.network.timeout\", \"100s\") \\\n",
    "    .config(\"spark.python.worker.reuse\", \"false\") \\\n",
    "    .getOrCreate()"
   ]
  },
  {
   "cell_type": "markdown",
   "id": "da74ae9e",
   "metadata": {},
   "source": [
    "\n",
    "Ingest as Spark df"
   ]
  },
  {
   "cell_type": "code",
   "execution_count": 36,
   "id": "3d56f7b6",
   "metadata": {},
   "outputs": [
    {
     "name": "stdout",
     "output_type": "stream",
     "text": [
      "+--------------------+--------+----------------+--------------------+----+------+\n",
      "|        category_key|    type|payment_category|         subcategory|item|nature|\n",
      "+--------------------+--------+----------------+--------------------+----+------+\n",
      "|Expenses:Food & D...|Expenses|   Food & Drinks|                 NaN| NaN|  Need|\n",
      "|Expenses:Restaura...|Expenses|   Food & Drinks|    Restaurants, bar| NaN|  Need|\n",
      "|  Expenses:Groceries|Expenses|   Food & Drinks|           Groceries| NaN|  Need|\n",
      "|  Expenses:Fast-food|Expenses|   Food & Drinks|           Fast-food| NaN|  Need|\n",
      "|   Expenses:Shopping|Expenses|        Shopping|                 NaN| NaN|  Want|\n",
      "|Expenses:Clothes ...|Expenses|        Shopping|     Clothes & shoes| NaN|  Want|\n",
      "|Expenses:Drug-sto...|Expenses|        Shopping| Drug-store, chemist| NaN|  Want|\n",
      "|Expenses:Electron...|Expenses|        Shopping|Electronics, acce...| NaN|  Want|\n",
      "|  Expenses:Free time|Expenses|        Shopping|           Free time| NaN|  Want|\n",
      "| Expenses:Gifts, joy|Expenses|        Shopping|          Gifts, joy| NaN|  Want|\n",
      "|Expenses:Health a...|Expenses|        Shopping|   Health and beauty| NaN|  Want|\n",
      "|Expenses:Home, ga...|Expenses|        Shopping|        Home, garden| NaN|  Want|\n",
      "|Expenses:Jewels, ...|Expenses|        Shopping| Jewels, accessories| NaN|  Want|\n",
      "|       Expenses:Kids|Expenses|        Shopping|                Kids| NaN|  Want|\n",
      "|Expenses:Pets, an...|Expenses|        Shopping|       Pets, animals| NaN|  Want|\n",
      "|Expenses:Statione...|Expenses|        Shopping|   Stationery, tools| NaN|  Want|\n",
      "|    Expenses:Housing|Expenses|         Housing|                 NaN| NaN|  Must|\n",
      "|Expenses:Energy, ...|Expenses|         Housing|   Energy, utilities| NaN|  Must|\n",
      "|Expenses:Maintena...|Expenses|         Housing|Maintenance, repairs| NaN|  Must|\n",
      "|   Expenses:Mortgage|Expenses|         Housing|            Mortgage| NaN|  Must|\n",
      "+--------------------+--------+----------------+--------------------+----+------+\n",
      "only showing top 20 rows\n",
      "\n"
     ]
    }
   ],
   "source": [
    "categories_df = spark.createDataFrame(categories)\n",
    "categories_df.show()"
   ]
  },
  {
   "cell_type": "code",
   "execution_count": 37,
   "id": "af27867c",
   "metadata": {},
   "outputs": [
    {
     "name": "stdout",
     "output_type": "stream",
     "text": [
      "+--------------------+--------------------+-------+--------------------+--------+--------+-------------------+--------+-------------------+--------+\n",
      "|          record_key|        category_key|account|            category|currency|  amount|ref_currency_amount|    type|               date|transfer|\n",
      "+--------------------+--------------------+-------+--------------------+--------+--------+-------------------+--------+-------------------+--------+\n",
      "|2025-03-31 23:31:...|  Fast-food:Expenses|Savings|           Fast-food|     INR|  -660.0|             -660.0|Expenses|2025-03-31 23:31:51|   false|\n",
      "|2025-03-31 23:31:...|Restaurants, bar:...|Savings|    Restaurants, bar|     INR|  -660.0|             -660.0|Expenses|2025-03-31 23:31:51|   false|\n",
      "|2025-03-31 16:30:...|  Fast-food:Expenses|Savings|           Fast-food|     INR|  -280.0|             -280.0|Expenses|2025-03-31 16:30:15|   false|\n",
      "|2025-03-30 19:32:...|Loan, interests:E...|Savings|     Loan, interests|     INR| -2500.0|            -2500.0|Expenses|2025-03-30 19:32:16|   false|\n",
      "|2025-03-30 19:30:...|  MF midcap:Expenses| Salary|           MF midcap|     INR| -5000.0|            -5000.0|Expenses|2025-03-30 19:30:26|   false|\n",
      "|2025-03-30 19:30:...|   TRANSFER:Expenses| Salary|            TRANSFER|     INR| -5000.0|            -5000.0|Expenses|2025-03-30 19:30:13|    true|\n",
      "|2025-03-30 19:30:...|     TRANSFER:Income|  Zerdh|            TRANSFER|     INR|  5000.0|             5000.0|  Income|2025-03-30 19:30:13|    true|\n",
      "|2025-03-30 19:29:...|   TRANSFER:Expenses| Salary|            TRANSFER|     INR|-10000.0|           -10000.0|Expenses|2025-03-30 19:29:52|    true|\n",
      "|2025-03-30 19:29:...|     TRANSFER:Income|Savings|            TRANSFER|     INR| 10000.0|            10000.0|  Income|2025-03-30 19:29:52|    true|\n",
      "|2025-03-30 19:12:...|        PPF:Expenses| Salary|                 PPF|     INR| -2500.0|            -2500.0|Expenses|2025-03-30 19:12:50|   false|\n",
      "|2025-03-30 19:12:...|   Mortgage:Expenses| Salary|            Mortgage|     INR|-10000.0|           -10000.0|Expenses|2025-03-30 19:12:04|   false|\n",
      "|2025-03-30 19:11:...|       Income:Income| Salary|              Income|     INR| 51300.0|            51300.0|  Income|2025-03-30 19:11:46|   false|\n",
      "|2025-03-29 15:01:...|Charges, Fees:Exp...|Savings|       Charges, Fees|     INR| -2775.0|            -2775.0|Expenses|2025-03-29 15:01:30|   false|\n",
      "|2025-03-29 15:01:...|Lending, renting:...|Savings|    Lending, renting|     INR|  2500.0|             2500.0|  Income|2025-03-29 15:01:25|   false|\n",
      "|2025-03-28 18:03:...|  Groceries:Expenses|Savings|           Groceries|     INR|   -85.0|              -85.0|Expenses|2025-03-28 18:03:10|   false|\n",
      "|2025-03-28 17:49:...|Food & Drinks:Exp...|Savings|       Food & Drinks|     INR|  -120.0|             -120.0|Expenses|2025-03-28 17:49:46|   false|\n",
      "|2025-03-28 14:57:...|Food & Drinks:Exp...|Savings|       Food & Drinks|     INR|  -150.0|             -150.0|Expenses|2025-03-28 14:57:41|   false|\n",
      "|2025-03-28 07:01:...|Interests, divide...|Savings|Interests, dividends|     INR|    85.0|               85.0|  Income|2025-03-28 07:01:25|   false|\n",
      "|2025-03-27 08:02:...|       Fuel:Expenses|Savings|                Fuel|     INR|  -565.0|             -565.0|Expenses|2025-03-27 08:02:45|   false|\n",
      "|2025-03-23 14:30:...|  Fast-food:Expenses|Savings|           Fast-food|     INR|  -205.0|             -205.0|Expenses|2025-03-23 14:30:51|   false|\n",
      "+--------------------+--------------------+-------+--------------------+--------+--------+-------------------+--------+-------------------+--------+\n",
      "only showing top 20 rows\n",
      "\n"
     ]
    }
   ],
   "source": [
    "records_df = spark.createDataFrame(records)\n",
    "records_df.show()"
   ]
  },
  {
   "cell_type": "code",
   "execution_count": null,
   "id": "4a76dbf8",
   "metadata": {},
   "outputs": [],
   "source": [
    "records_df = records_df.withColumn('timestamp', col('date').cast(TimestampType()))\n",
    "records_df = records_df.select('record_key', 'category_key', 'account', 'category', 'amount', 'ref_currency_amount', 'type','timestamp','transfer')\n",
    "\n",
    "categories_df = categories_df.select('category_key', 'type', 'payment_category', 'subcategory', 'item', 'nature').distinct()"
   ]
  },
  {
   "cell_type": "markdown",
   "id": "94833295",
   "metadata": {},
   "source": [
    "Validation for categories"
   ]
  },
  {
   "cell_type": "code",
   "execution_count": 43,
   "id": "9bbbb934",
   "metadata": {},
   "outputs": [
    {
     "name": "stdout",
     "output_type": "stream",
     "text": [
      "+--------+\n",
      "|    type|\n",
      "+--------+\n",
      "|Expenses|\n",
      "|  Income|\n",
      "+--------+\n",
      "\n",
      "+------+\n",
      "|nature|\n",
      "+------+\n",
      "|  Want|\n",
      "|  Need|\n",
      "|  Must|\n",
      "|   NaN|\n",
      "+------+\n",
      "\n"
     ]
    }
   ],
   "source": [
    "categories_df.select('type').distinct().show()\n",
    "categories_df.select('nature').distinct().show()"
   ]
  },
  {
   "cell_type": "code",
   "execution_count": 42,
   "id": "9f78846b",
   "metadata": {},
   "outputs": [
    {
     "name": "stdout",
     "output_type": "stream",
     "text": [
      "+--------------------+\n",
      "|    payment_category|\n",
      "+--------------------+\n",
      "|            Shopping|\n",
      "|       Food & Drinks|\n",
      "|             Housing|\n",
      "|      Transportation|\n",
      "|             Vehicle|\n",
      "|Life & Entertainment|\n",
      "|   Communication, PC|\n",
      "|  Financial expenses|\n",
      "|         Investments|\n",
      "|              Income|\n",
      "|            TRANSFER|\n",
      "|              Others|\n",
      "+--------------------+\n",
      "\n"
     ]
    }
   ],
   "source": [
    "categories_df.select('payment_category').distinct().show()"
   ]
  },
  {
   "cell_type": "code",
   "execution_count": 67,
   "id": "d42224cf",
   "metadata": {},
   "outputs": [
    {
     "data": {
      "text/plain": [
       "0"
      ]
     },
     "execution_count": 67,
     "metadata": {},
     "output_type": "execute_result"
    }
   ],
   "source": [
    "categories_df.where('payment_category is null').count()"
   ]
  },
  {
   "cell_type": "markdown",
   "id": "f28a0c54",
   "metadata": {},
   "source": [
    "Validation for records"
   ]
  },
  {
   "cell_type": "code",
   "execution_count": 53,
   "id": "6d022942",
   "metadata": {},
   "outputs": [
    {
     "name": "stdout",
     "output_type": "stream",
     "text": [
      "+--------+\n",
      "|    type|\n",
      "+--------+\n",
      "|  Income|\n",
      "|Expenses|\n",
      "+--------+\n",
      "\n",
      "+--------+\n",
      "|transfer|\n",
      "+--------+\n",
      "|    true|\n",
      "|   false|\n",
      "+--------+\n",
      "\n",
      "+-------+\n",
      "|account|\n",
      "+-------+\n",
      "|Savings|\n",
      "|  Zerdh|\n",
      "|   Card|\n",
      "|   Cash|\n",
      "| Equity|\n",
      "| Salary|\n",
      "+-------+\n",
      "\n"
     ]
    }
   ],
   "source": [
    "records_df.select('type').distinct().show()\n",
    "records_df.select('transfer').distinct().show()\n",
    "records_df.select('account').distinct().show()"
   ]
  },
  {
   "cell_type": "code",
   "execution_count": 59,
   "id": "3b7c1a5a",
   "metadata": {},
   "outputs": [
    {
     "name": "stdout",
     "output_type": "stream",
     "text": [
      "1893\n",
      "294\n"
     ]
    }
   ],
   "source": [
    "print(records_df.count())\n",
    "print(records_df.where('transfer is True').count())"
   ]
  },
  {
   "cell_type": "code",
   "execution_count": 60,
   "id": "26ffebdd",
   "metadata": {},
   "outputs": [
    {
     "data": {
      "text/plain": [
       "65"
      ]
     },
     "execution_count": 60,
     "metadata": {},
     "output_type": "execute_result"
    }
   ],
   "source": [
    "records_df.select('category').distinct().count()"
   ]
  },
  {
   "cell_type": "code",
   "execution_count": 66,
   "id": "6d9d71aa",
   "metadata": {},
   "outputs": [
    {
     "name": "stdout",
     "output_type": "stream",
     "text": [
      "+--------------------+-----+\n",
      "|            category|count|\n",
      "+--------------------+-----+\n",
      "|            TRANSFER|  294|\n",
      "|           Fast-food|  242|\n",
      "|                Fuel|  121|\n",
      "|     Loan, interests|   85|\n",
      "|    Lending, renting|   77|\n",
      "|             Missing|   62|\n",
      "|           Groceries|   59|\n",
      "|    Restaurants, bar|   57|\n",
      "|Books, audio, sub...|   55|\n",
      "|   Health and beauty|   46|\n",
      "|      Charity, gifts|   44|\n",
      "|Telephone, mobile...|   43|\n",
      "|              Income|   42|\n",
      "|       Food & Drinks|   37|\n",
      "|     Clothes & shoes|   36|\n",
      "|             Parking|   33|\n",
      "|           Auto/taxi|   30|\n",
      "|Software, apps, g...|   26|\n",
      "|Holiday, trips, h...|   26|\n",
      "|                  RD|   24|\n",
      "+--------------------+-----+\n",
      "only showing top 20 rows\n",
      "\n"
     ]
    }
   ],
   "source": [
    "records_df.groupBy('category').count().orderBy(desc('count')).show()"
   ]
  },
  {
   "cell_type": "markdown",
   "id": "b7a74d66",
   "metadata": {},
   "source": [
    "Validation for joining"
   ]
  },
  {
   "cell_type": "code",
   "execution_count": 70,
   "id": "87018f57",
   "metadata": {},
   "outputs": [
    {
     "name": "stdout",
     "output_type": "stream",
     "text": [
      "0\n"
     ]
    }
   ],
   "source": [
    "join_df = records_df.join(categories_df, how='left').where('payment_category is null')\n",
    "print(join_df.count())"
   ]
  },
  {
   "cell_type": "code",
   "execution_count": null,
   "id": "e6f80a90",
   "metadata": {},
   "outputs": [
    {
     "name": "stdout",
     "output_type": "stream",
     "text": [
      "+----------------+-----------+\n",
      "|payment_category|sum(amount)|\n",
      "+----------------+-----------+\n",
      "+----------------+-----------+\n",
      "\n"
     ]
    }
   ],
   "source": [
    "join_df.groupBy('payment_category').agg('amount').show()"
   ]
  },
  {
   "cell_type": "markdown",
   "id": "5dc0ca21",
   "metadata": {},
   "source": [
    "Validation for datatypes"
   ]
  },
  {
   "cell_type": "code",
   "execution_count": 50,
   "id": "0f576343",
   "metadata": {},
   "outputs": [
    {
     "name": "stdout",
     "output_type": "stream",
     "text": [
      "\n",
      "categories\n",
      "\n",
      "category_key  :  String\n",
      "type  :  String\n",
      "payment_category  :  String\n",
      "subcategory  :  String\n",
      "item  :  String\n",
      "nature  :  String\n",
      "\n",
      "records\n",
      "\n",
      "record_key  :  String\n",
      "category_key  :  String\n",
      "account  :  String\n",
      "category  :  String\n",
      "currency  :  String\n",
      "amount  :  Double\n",
      "ref_currency_amount  :  Double\n",
      "type  :  String\n",
      "timestamp  :  Timestamp\n",
      "transfer  :  Boolean\n"
     ]
    }
   ],
   "source": [
    "print('\\ncategories\\n')\n",
    "categories_col_dict = {field.name: str(field.dataType).replace('Type()','') for field in categories_df.schema.fields}\n",
    "for col, type in categories_col_dict.items():\n",
    "    print(col, ' : ', type)\n",
    "    \n",
    "print('\\nrecords\\n')\n",
    "records_col_dict = {field.name: str(field.dataType).replace('Type()','') for field in records_df.schema.fields}\n",
    "for col, type in records_col_dict.items():\n",
    "    print(col, ' : ', type)"
   ]
  },
  {
   "cell_type": "code",
   "execution_count": null,
   "id": "a2a0de4d",
   "metadata": {},
   "outputs": [],
   "source": [
    "# spark.stop"
   ]
  }
 ],
 "metadata": {
  "kernelspec": {
   "display_name": "Python 3",
   "language": "python",
   "name": "python3"
  },
  "language_info": {
   "codemirror_mode": {
    "name": "ipython",
    "version": 3
   },
   "file_extension": ".py",
   "mimetype": "text/x-python",
   "name": "python",
   "nbconvert_exporter": "python",
   "pygments_lexer": "ipython3",
   "version": "3.10.6"
  }
 },
 "nbformat": 4,
 "nbformat_minor": 5
}
